{
 "cells": [
  {
   "cell_type": "code",
   "execution_count": 5,
   "metadata": {},
   "outputs": [],
   "source": [
    "import pygame\n",
    "import pygame_widgets"
   ]
  },
  {
   "cell_type": "code",
   "execution_count": 6,
   "metadata": {},
   "outputs": [],
   "source": [
    "n =[]\n",
    "\n",
    "# funciones reutilizables\n",
    "def swap(i):\n",
    "    a= n[i]\n",
    "    n[i] = n[i+1]\n",
    "    n[i+1] = a\n",
    "\n",
    "def agregaNumero(linea):\n",
    "    global n\n",
    "    n.append(int(Numero.getText()))\n",
    "    tResultado.setText(n)\n",
    "\n",
    "def ordenar():\n",
    "        parar = 0\n",
    "        global contador\n",
    "        global n\n",
    "        for i in range(len(n)-1):\n",
    "            parar = 1\n",
    "            for j in range(len(n)-1):\n",
    "                if  n[j]>n[j+1]:\n",
    "                    swap(j)\n",
    "                    contador +=1\n",
    "                    parar = 0\n",
    "            if parar == 1:\n",
    "                break\n",
    "        tResultado.setText(n)\n"
   ]
  },
  {
   "cell_type": "code",
   "execution_count": 13,
   "metadata": {},
   "outputs": [
    {
     "ename": "SyntaxError",
     "evalue": "invalid syntax. Perhaps you forgot a comma? (3881367771.py, line 15)",
     "output_type": "error",
     "traceback": [
      "\u001b[0;36m  Cell \u001b[0;32mIn[13], line 15\u001b[0;36m\u001b[0m\n\u001b[0;31m    text = 'Ordenar', fontsize = 50, margin = 20 inactiveColour = (200, 50, 0)\u001b[0m\n\u001b[0m                                              ^\u001b[0m\n\u001b[0;31mSyntaxError\u001b[0m\u001b[0;31m:\u001b[0m invalid syntax. Perhaps you forgot a comma?\n"
     ]
    }
   ],
   "source": [
    "from pygame_widgets.button import Button\n",
    "from pygame_widgets.textbox import TextBox\n",
    "# Set up Pygame\n",
    "pygame.init()\n",
    "win = pygame.display.set_mode((600,600))\n",
    "# Creates the button with optional parameters\n",
    "button = Button(\n",
    "    win, 100, 100, 300, 150,\n",
    "   text='Hola', fontSize=50, margin=20, inactiveColour=(200, 50, 0),\n",
    "    hoverColour=(150, 0, 0), pressedColour=(0, 200, 20), radius=20,\n",
    "    onClick=lambda: print('click')  # Function to call when clicked on\n",
    ")\n",
    "button2 = Button(\n",
    "    win, 100, 210, 300, 100,\n",
    "    text = 'Ordenar', fontsize = 50, margin = 20 inactiveColour = (200, 50, 0)\n",
    "    hoverColour = (150, 0, 0), pressedColour = (0, 200, 20), radius = 20,\n",
    "    onClick = lambda: ordenar()\n",
    ")\n",
    "tNumero = TextBox(win, 100, 10, 300, 70, fontSize=40)\n",
    "tResultado = TextBox(win, 100, 320, 300, 70, fontSize=40)\n",
    "tResultado.disable()\n",
    "\n",
    "run = True \n",
    "while run:\n",
    "    events = pygame.event.get()\n",
    "    for event in events:\n",
    "        if event.type == pygame.QUIT:\n",
    "            pygame.quit()\n",
    "            run = False\n",
    "            break\n",
    "\n",
    "    if run==False:\n",
    "        break\n",
    "    win.fill((255, 255, 255))\n",
    "\n",
    "    pygame_widgets.update(events) # Call once every loop to allow widgets to render and list\n",
    "    pygame.display.update()\n",
    "\n",
    "    \n",
    "\n"
   ]
  }
 ],
 "metadata": {
  "kernelspec": {
   "display_name": "Python 3.11.4 ('base')",
   "language": "python",
   "name": "python3"
  },
  "language_info": {
   "codemirror_mode": {
    "name": "ipython",
    "version": 3
   },
   "file_extension": ".py",
   "mimetype": "text/x-python",
   "name": "python",
   "nbconvert_exporter": "python",
   "pygments_lexer": "ipython3",
   "version": "3.11.4"
  },
  "orig_nbformat": 4,
  "vscode": {
   "interpreter": {
    "hash": "7143be07ba13404cf0571f554d5ea80bbfac7bd05f558f8b277e4a72679f19f7"
   }
  }
 },
 "nbformat": 4,
 "nbformat_minor": 2
}
